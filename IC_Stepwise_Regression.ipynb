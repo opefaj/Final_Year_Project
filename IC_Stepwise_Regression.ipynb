{
 "cells": [
  {
   "cell_type": "code",
   "execution_count": 141,
   "metadata": {
    "scrolled": false
   },
   "outputs": [],
   "source": [
    "require(data.table)\n",
    "library(fBasics)\n",
    "library(lmtest)\n",
    "library(mctest)\n",
    "library(arm)\n",
    "\n",
    "# Cote D'Ivoire Files.\n",
    "regression_dhs <- \"CDR_Data_IC/Regression/DHS/\"\n",
    "regression_cdr <-\"CDR_Data_IC/Regression/CDR/\"\n",
    "\n",
    "activity_admin_1 <- read.csv(file=\"CDR_Data_IC/Regression/CDR/activity_1.csv\", head=TRUE, sep=\",\")\n",
    "activity_admin_2 <- read.csv(file=\"CDR_Data_IC/Regression/CDR/activity_2.csv\", head=TRUE, sep=\",\")\n",
    "activity_admin_3 <- read.csv(file=\"CDR_Data_IC/Regression/CDR/activity_3.csv\", head=TRUE, sep=\",\")\n",
    "\n",
    "introversion_admin_1 <- read.csv(file=\"CDR_Data_IC/Regression/CDR/introversion_1.csv\", head=TRUE, sep=\",\")\n",
    "introversion_admin_2 <- read.csv(file=\"CDR_Data_IC/Regression/CDR/introversion_2.csv\", head=TRUE, sep=\",\")\n",
    "introversion_admin_3 <- read.csv(file=\"CDR_Data_IC/Regression/CDR/introversion_3.csv\", head=TRUE, sep=\",\")\n",
    "\n",
    "entropy_admin_1 <- read.csv(file=\"CDR_Data_IC/Regression/CDR/entropy_1.csv\", head=TRUE, sep=\",\")\n",
    "entropy_admin_2 <- read.csv(file=\"CDR_Data_IC/Regression/CDR/entropy_2.csv\", head=TRUE, sep=\",\")\n",
    "entropy_admin_3 <- read.csv(file=\"CDR_Data_IC/Regression/CDR/entropy_3.csv\", head=TRUE, sep=\",\")\n",
    "\n",
    "meddegree_admin_1 <- read.csv(file=\"CDR_Data_IC/Regression/CDR/meddegree_1.csv\", head=TRUE, sep=\",\")\n",
    "meddegree_admin_2 <- read.csv(file=\"CDR_Data_IC/Regression/CDR/meddegree_2.csv\", head=TRUE, sep=\",\")\n",
    "meddegree_admin_3 <- read.csv(file=\"CDR_Data_IC/Regression/CDR/meddegree_3.csv\", head=TRUE, sep=\",\")\n",
    "\n",
    "gresidual_1 <- read.csv(file=\"CDR_Data_IC/Regression/CDR/gresidual_1.csv\", head=TRUE, sep=\",\")\n",
    "gresidual_2 <- read.csv(file=\"CDR_Data_IC/Regression/CDR/gresidual_2.csv\", head=TRUE, sep=\",\")\n",
    "gresidual_3 <- read.csv(file=\"CDR_Data_IC/Regression/CDR/gresidual_3.csv\", head=TRUE, sep=\",\")\n",
    "\n",
    "aids_admin_1 <- read.csv(file=\"CDR_Data_IC/Regression/DHS/aids_1.csv\", head=TRUE, sep=\",\")\n",
    "aids_admin_2 <- read.csv(file=\"CDR_Data_IC/Regression/DHS/aids_2.csv\", head=TRUE, sep=\",\")\n",
    "aids_admin_3 <- read.csv(file=\"CDR_Data_IC/Regression/DHS/aids_3.csv\", head=TRUE, sep=\",\")\n",
    "\n",
    "child_mortality_1 <- read.csv(file=\"CDR_Data_IC/Regression/DHS/cm_1.csv\", head=TRUE, sep=\",\")\n",
    "child_mortality_2 <- read.csv(file=\"CDR_Data_IC/Regression/DHS/cm_2.csv\", head=TRUE, sep=\",\")\n",
    "child_mortality_3 <- read.csv(file=\"CDR_Data_IC/Regression/DHS/cm_3.csv\", head=TRUE, sep=\",\")\n",
    "\n",
    "malaria_rapid_admin_1 <- read.csv(file=\"CDR_Data_IC/Regression/DHS/malaria_rapid_1.csv\", head=TRUE, sep=\",\")\n",
    "malaria_rapid_admin_2 <- read.csv(file=\"CDR_Data_IC/Regression/DHS/malaria_rapid_2.csv\", head=TRUE, sep=\",\")\n",
    "malaria_rapid_admin_3 <- read.csv(file=\"CDR_Data_IC/Regression/DHS/malaria_rapid_3.csv\", head=TRUE, sep=\",\")\n",
    "\n",
    "malaria_lab_admin_1 <- read.csv(file=\"CDR_Data_IC/Regression/DHS/malaria_lab_1.csv\", head=TRUE, sep=\",\")\n",
    "malaria_lab_admin_2 <- read.csv(file=\"CDR_Data_IC/Regression/DHS/malaria_lab_2.csv\", head=TRUE, sep=\",\")\n",
    "malaria_lab_admin_3 <- read.csv(file=\"CDR_Data_IC/Regression/DHS/malaria_lab_3.csv\", head=TRUE, sep=\",\")\n",
    "\n",
    "wha_care_admin_1 <- read.csv(file=\"CDR_Data_IC/Regression/DHS/wha_care_1.csv\", head=TRUE, sep=\",\")\n",
    "wha_care_admin_2 <- read.csv(file=\"CDR_Data_IC/Regression/DHS/wha_care_2.csv\", head=TRUE, sep=\",\")\n",
    "wha_care_admin_3 <- read.csv(file=\"CDR_Data_IC/Regression/DHS/wha_care_3.csv\", head=TRUE, sep=\",\")\n",
    "\n",
    "wha_nocare_admin_1 <- read.csv(file=\"CDR_Data_IC/Regression/DHS/wha_nocare_1.csv\", head=TRUE, sep=\",\")\n",
    "wha_nocare_admin_2 <- read.csv(file=\"CDR_Data_IC/Regression/DHS/wha_nocare_2.csv\", head=TRUE, sep=\",\")\n",
    "wha_nocare_admin_3 <- read.csv(file=\"CDR_Data_IC/Regression/DHS/wha_nocare_3.csv\", head=TRUE, sep=\",\")"
   ]
  },
  {
   "cell_type": "code",
   "execution_count": 142,
   "metadata": {
    "scrolled": true
   },
   "outputs": [
    {
     "name": "stdout",
     "output_type": "stream",
     "text": [
      "[1] \"----AIDS LINEAR REGRESSION ADMIN REGION 1------\"\n"
     ]
    },
    {
     "data": {
      "text/plain": [
       "\n",
       "Call:\n",
       "lm(formula = y_aids_1 ~ activity)\n",
       "\n",
       "Residuals:\n",
       "     Min       1Q   Median       3Q      Max \n",
       "-0.97101 -0.39005 -0.00267  0.26367  2.07654 \n",
       "\n",
       "Coefficients:\n",
       "             Estimate Std. Error t value Pr(>|t|)    \n",
       "(Intercept) 2.240e-16  1.567e-01   0.000 1.000000    \n",
       "activity    7.631e-01  1.567e-01   4.868 0.000144 ***\n",
       "---\n",
       "Signif. codes:  0 ‘***’ 0.001 ‘**’ 0.01 ‘*’ 0.05 ‘.’ 0.1 ‘ ’ 1\n",
       "\n",
       "Residual standard error: 0.6832 on 17 degrees of freedom\n",
       "Multiple R-squared:  0.5823,\tAdjusted R-squared:  0.5577 \n",
       "F-statistic:  23.7 on 1 and 17 DF,  p-value: 0.0001445\n"
      ]
     },
     "metadata": {},
     "output_type": "display_data"
    },
    {
     "name": "stdout",
     "output_type": "stream",
     "text": [
      "[1] \"----CM LINEAR REGRESSION ADMIN REGION 1------\"\n"
     ]
    },
    {
     "data": {
      "text/plain": [
       "\n",
       "Call:\n",
       "lm(formula = y_cm_1 ~ 1)\n",
       "\n",
       "Residuals:\n",
       "     Min       1Q   Median       3Q      Max \n",
       "-1.38076 -0.78194 -0.07054  0.79164  2.11272 \n",
       "\n",
       "Coefficients:\n",
       "              Estimate Std. Error t value Pr(>|t|)\n",
       "(Intercept) -5.094e-17  2.357e-01       0        1\n",
       "\n",
       "Residual standard error: 1.027 on 18 degrees of freedom\n"
      ]
     },
     "metadata": {},
     "output_type": "display_data"
    },
    {
     "name": "stdout",
     "output_type": "stream",
     "text": [
      "[1] \"----MALARIA RAPID LINEAR REGRESSION ADMIN REGION 1------\"\n"
     ]
    },
    {
     "data": {
      "text/plain": [
       "\n",
       "Call:\n",
       "lm(formula = y_malaria_rapid_1 ~ median_degree)\n",
       "\n",
       "Residuals:\n",
       "    Min      1Q  Median      3Q     Max \n",
       "-1.2762 -0.4329 -0.2217  0.2475  2.7990 \n",
       "\n",
       "Coefficients:\n",
       "               Estimate Std. Error t value Pr(>|t|)  \n",
       "(Intercept)   5.330e-16  2.010e-01   0.000   1.0000  \n",
       "median_degree 5.595e-01  2.010e-01   2.783   0.0127 *\n",
       "---\n",
       "Signif. codes:  0 ‘***’ 0.001 ‘**’ 0.01 ‘*’ 0.05 ‘.’ 0.1 ‘ ’ 1\n",
       "\n",
       "Residual standard error: 0.8762 on 17 degrees of freedom\n",
       "Multiple R-squared:  0.313,\tAdjusted R-squared:  0.2726 \n",
       "F-statistic: 7.746 on 1 and 17 DF,  p-value: 0.01275\n"
      ]
     },
     "metadata": {},
     "output_type": "display_data"
    },
    {
     "name": "stdout",
     "output_type": "stream",
     "text": [
      "[1] \"----MALARIA LAB LINEAR REGRESSION ADMIN REGION 1------\"\n"
     ]
    },
    {
     "data": {
      "text/plain": [
       "\n",
       "Call:\n",
       "lm(formula = y_malaria_lab_1 ~ median_degree)\n",
       "\n",
       "Residuals:\n",
       "    Min      1Q  Median      3Q     Max \n",
       "-1.3364 -0.3515 -0.1266  0.3630  2.0833 \n",
       "\n",
       "Coefficients:\n",
       "               Estimate Std. Error t value Pr(>|t|)   \n",
       "(Intercept)   7.732e-16  1.763e-01   0.000  1.00000   \n",
       "median_degree 6.865e-01  1.763e-01   3.893  0.00117 **\n",
       "---\n",
       "Signif. codes:  0 ‘***’ 0.001 ‘**’ 0.01 ‘*’ 0.05 ‘.’ 0.1 ‘ ’ 1\n",
       "\n",
       "Residual standard error: 0.7687 on 17 degrees of freedom\n",
       "Multiple R-squared:  0.4713,\tAdjusted R-squared:  0.4403 \n",
       "F-statistic: 15.16 on 1 and 17 DF,  p-value: 0.001169\n"
      ]
     },
     "metadata": {},
     "output_type": "display_data"
    },
    {
     "name": "stdout",
     "output_type": "stream",
     "text": [
      "[1] \"----WHA LINEAR REGRESSION ADMIN REGION 1------\"\n"
     ]
    },
    {
     "data": {
      "text/plain": [
       "\n",
       "Call:\n",
       "lm(formula = y_wha_care_1 ~ activity)\n",
       "\n",
       "Residuals:\n",
       "    Min      1Q  Median      3Q     Max \n",
       "-0.9854 -0.3007 -0.1012  0.1990  2.5775 \n",
       "\n",
       "Coefficients:\n",
       "             Estimate Std. Error t value Pr(>|t|)    \n",
       "(Intercept) 3.429e-17  1.712e-01   0.000 1.000000    \n",
       "activity    7.085e-01  1.712e-01   4.139 0.000686 ***\n",
       "---\n",
       "Signif. codes:  0 ‘***’ 0.001 ‘**’ 0.01 ‘*’ 0.05 ‘.’ 0.1 ‘ ’ 1\n",
       "\n",
       "Residual standard error: 0.7461 on 17 degrees of freedom\n",
       "Multiple R-squared:  0.502,\tAdjusted R-squared:  0.4727 \n",
       "F-statistic: 17.13 on 1 and 17 DF,  p-value: 0.000686\n"
      ]
     },
     "metadata": {},
     "output_type": "display_data"
    },
    {
     "name": "stdout",
     "output_type": "stream",
     "text": [
      "[1] \"----WHA (ZERO CARE) LINEAR REGRESSION ADMIN REGION 1------\"\n"
     ]
    },
    {
     "data": {
      "text/plain": [
       "\n",
       "Call:\n",
       "lm(formula = y_wha_nocare_1 ~ 1)\n",
       "\n",
       "Residuals:\n",
       "     Min       1Q   Median       3Q      Max \n",
       "-2.16514 -0.63880  0.05341  0.43657  2.22244 \n",
       "\n",
       "Coefficients:\n",
       "             Estimate Std. Error t value Pr(>|t|)\n",
       "(Intercept) 1.019e-16  2.357e-01       0        1\n",
       "\n",
       "Residual standard error: 1.027 on 18 degrees of freedom\n"
      ]
     },
     "metadata": {},
     "output_type": "display_data"
    }
   ],
   "source": [
    "# Cote D'Ivoire OLS - Admin Region 1.\n",
    "\n",
    "# Independent Variables\n",
    "activity <- activity_admin_1$Activity\n",
    "introversion <- introversion_admin_1$avg_introversion\n",
    "norm_entropy <- entropy_admin_1$normalised_entropy\n",
    "median_degree <- meddegree_admin_1$medDegree\n",
    "gravity_residual <- gresidual_1$gResidual\n",
    "\n",
    "# Dependent Variables.\n",
    "y_aids_1 <- aids_admin_1$Positive_HIV_Pop\n",
    "y_cm_1 <- child_mortality_1$CM_Pop_Count\n",
    "y_malaria_rapid_1 <- malaria_rapid_admin_1$Rapid_Pop_Count\n",
    "y_malaria_lab_1 <- malaria_lab_admin_1$Lab_Pop_Count\n",
    "y_wha_care_1 <- wha_care_admin_1$Care_Pop_Count\n",
    "y_wha_nocare_1 <- wha_nocare_admin_1$Zero_Pop_Count\n",
    "\n",
    "# Multiple Linear Regression Example \n",
    "print(\"----AIDS LINEAR REGRESSION ADMIN REGION 1------\")\n",
    "fit <- lm(y_aids_1 ~ activity + gravity_residual + introversion + median_degree)\n",
    "response <- step(fit, direction=\"backward\", trace=0)\n",
    "summary(response)\n",
    "# bptest(response) \n",
    "\n",
    "print(\"----CM LINEAR REGRESSION ADMIN REGION 1------\")\n",
    "fit <- lm(y_cm_1 ~ activity + gravity_residual + introversion)\n",
    "response <- step(fit, direction=\"backward\", trace=0)\n",
    "summary(response)\n",
    "# bptest(response) \n",
    "\n",
    "print(\"----MALARIA RAPID LINEAR REGRESSION ADMIN REGION 1------\")\n",
    "fit <- lm(y_malaria_rapid_1 ~ activity + median_degree)\n",
    "response <- step(fit, direction=\"backward\", trace=0)\n",
    "summary(response)\n",
    "# bptest(response)\n",
    "\n",
    "print(\"----MALARIA LAB LINEAR REGRESSION ADMIN REGION 1------\")\n",
    "fit <- lm(y_malaria_lab_1 ~ activity + gravity_residual + median_degree)\n",
    "response <- step(fit, direction=\"backward\", trace=0)\n",
    "summary(response)\n",
    "# bptest(response) \n",
    "\n",
    "print(\"----WHA LINEAR REGRESSION ADMIN REGION 1------\")\n",
    "fit <- lm(y_wha_care_1 ~ activity + gravity_residual + introversion + median_degree)\n",
    "response <- step(fit, direction=\"backward\", trace=0)\n",
    "summary(response)\n",
    "# bptest(response)\n",
    "\n",
    "print(\"----WHA (ZERO CARE) LINEAR REGRESSION ADMIN REGION 1------\")\n",
    "fit <- lm(y_wha_nocare_1 ~ activity + gravity_residual)\n",
    "response <- step(fit, direction=\"backward\", trace=0)\n",
    "summary(response)\n",
    "# bptest(response) "
   ]
  },
  {
   "cell_type": "code",
   "execution_count": 143,
   "metadata": {
    "scrolled": true
   },
   "outputs": [
    {
     "name": "stdout",
     "output_type": "stream",
     "text": [
      "[1] \"----AIDS LINEAR REGRESSION ADMIN REGION 2------\"\n"
     ]
    },
    {
     "data": {
      "text/plain": [
       "\n",
       "Call:\n",
       "lm(formula = y_aids_2 ~ activity + introversion + median_degree)\n",
       "\n",
       "Residuals:\n",
       "     Min       1Q   Median       3Q      Max \n",
       "-1.55482 -0.54111  0.02473  0.45723  2.44515 \n",
       "\n",
       "Coefficients:\n",
       "                Estimate Std. Error t value Pr(>|t|)   \n",
       "(Intercept)    4.033e-16  1.028e-01   0.000  1.00000   \n",
       "activity       4.338e-01  1.294e-01   3.351  0.00162 **\n",
       "introversion  -1.873e-01  1.192e-01  -1.571  0.12303   \n",
       "median_degree  2.856e-01  1.138e-01   2.509  0.01569 * \n",
       "---\n",
       "Signif. codes:  0 ‘***’ 0.001 ‘**’ 0.01 ‘*’ 0.05 ‘.’ 0.1 ‘ ’ 1\n",
       "\n",
       "Residual standard error: 0.7273 on 46 degrees of freedom\n",
       "Multiple R-squared:  0.5134,\tAdjusted R-squared:  0.4817 \n",
       "F-statistic: 16.18 on 3 and 46 DF,  p-value: 2.563e-07\n"
      ]
     },
     "metadata": {},
     "output_type": "display_data"
    },
    {
     "name": "stdout",
     "output_type": "stream",
     "text": [
      "[1] \"----CM LINEAR REGRESSION ADMIN REGION 2------\"\n"
     ]
    },
    {
     "data": {
      "text/plain": [
       "\n",
       "Call:\n",
       "lm(formula = y_cm_2 ~ activity + gravity_residual)\n",
       "\n",
       "Residuals:\n",
       "     Min       1Q   Median       3Q      Max \n",
       "-1.39889 -0.81589  0.00032  0.57610  2.06347 \n",
       "\n",
       "Coefficients:\n",
       "                   Estimate Std. Error t value Pr(>|t|)    \n",
       "(Intercept)      -2.609e-16  1.294e-01   0.000 1.000000    \n",
       "activity          5.083e-01  1.425e-01   3.567 0.000844 ***\n",
       "gravity_residual  2.344e-01  1.425e-01   1.645 0.106700    \n",
       "---\n",
       "Signif. codes:  0 ‘***’ 0.001 ‘**’ 0.01 ‘*’ 0.05 ‘.’ 0.1 ‘ ’ 1\n",
       "\n",
       "Residual standard error: 0.9148 on 47 degrees of freedom\n",
       "Multiple R-squared:  0.2134,\tAdjusted R-squared:  0.1799 \n",
       "F-statistic: 6.374 on 2 and 47 DF,  p-value: 0.003554\n"
      ]
     },
     "metadata": {},
     "output_type": "display_data"
    },
    {
     "name": "stdout",
     "output_type": "stream",
     "text": [
      "[1] \"----MALARIA RAPID LINEAR REGRESSION ADMIN REGION 2------\"\n"
     ]
    },
    {
     "data": {
      "text/plain": [
       "\n",
       "Call:\n",
       "lm(formula = y_malaria_rapid_2 ~ median_degree)\n",
       "\n",
       "Residuals:\n",
       "    Min      1Q  Median      3Q     Max \n",
       "-1.6793 -0.5974 -0.1280  0.5255  2.6223 \n",
       "\n",
       "Coefficients:\n",
       "                Estimate Std. Error t value Pr(>|t|)    \n",
       "(Intercept)   -1.449e-16  1.240e-01   0.000 1.000000    \n",
       "median_degree  5.114e-01  1.240e-01   4.123 0.000147 ***\n",
       "---\n",
       "Signif. codes:  0 ‘***’ 0.001 ‘**’ 0.01 ‘*’ 0.05 ‘.’ 0.1 ‘ ’ 1\n",
       "\n",
       "Residual standard error: 0.877 on 48 degrees of freedom\n",
       "Multiple R-squared:  0.2616,\tAdjusted R-squared:  0.2462 \n",
       "F-statistic:    17 on 1 and 48 DF,  p-value: 0.0001473\n"
      ]
     },
     "metadata": {},
     "output_type": "display_data"
    },
    {
     "name": "stdout",
     "output_type": "stream",
     "text": [
      "[1] \"----MALARIA LAB LINEAR REGRESSION ADMIN REGION 2------\"\n"
     ]
    },
    {
     "data": {
      "text/plain": [
       "\n",
       "Call:\n",
       "lm(formula = y_malaria_lab_2 ~ median_degree)\n",
       "\n",
       "Residuals:\n",
       "     Min       1Q   Median       3Q      Max \n",
       "-1.80118 -0.66500  0.02793  0.55969  1.88357 \n",
       "\n",
       "Coefficients:\n",
       "                Estimate Std. Error t value Pr(>|t|)    \n",
       "(Intercept)   -4.636e-16  1.206e-01   0.000        1    \n",
       "median_degree  5.499e-01  1.206e-01   4.561 3.53e-05 ***\n",
       "---\n",
       "Signif. codes:  0 ‘***’ 0.001 ‘**’ 0.01 ‘*’ 0.05 ‘.’ 0.1 ‘ ’ 1\n",
       "\n",
       "Residual standard error: 0.8525 on 48 degrees of freedom\n",
       "Multiple R-squared:  0.3024,\tAdjusted R-squared:  0.2878 \n",
       "F-statistic:  20.8 on 1 and 48 DF,  p-value: 3.529e-05\n"
      ]
     },
     "metadata": {},
     "output_type": "display_data"
    },
    {
     "name": "stdout",
     "output_type": "stream",
     "text": [
      "[1] \"----WHA LINEAR REGRESSION ADMIN REGION 2------\"\n"
     ]
    },
    {
     "data": {
      "text/plain": [
       "\n",
       "Call:\n",
       "lm(formula = y_wha_care_2 ~ activity + introversion + median_degree)\n",
       "\n",
       "Residuals:\n",
       "    Min      1Q  Median      3Q     Max \n",
       "-1.2307 -0.4005 -0.1564  0.2921  2.0981 \n",
       "\n",
       "Coefficients:\n",
       "                Estimate Std. Error t value Pr(>|t|)    \n",
       "(Intercept)    4.525e-16  9.876e-02   0.000 1.000000    \n",
       "activity       4.626e-01  1.243e-01   3.722 0.000537 ***\n",
       "introversion  -1.951e-01  1.145e-01  -1.704 0.095190 .  \n",
       "median_degree  2.779e-01  1.093e-01   2.543 0.014421 *  \n",
       "---\n",
       "Signif. codes:  0 ‘***’ 0.001 ‘**’ 0.01 ‘*’ 0.05 ‘.’ 0.1 ‘ ’ 1\n",
       "\n",
       "Residual standard error: 0.6984 on 46 degrees of freedom\n",
       "Multiple R-squared:  0.5513,\tAdjusted R-squared:  0.522 \n",
       "F-statistic: 18.84 on 3 and 46 DF,  p-value: 4.103e-08\n"
      ]
     },
     "metadata": {},
     "output_type": "display_data"
    },
    {
     "name": "stdout",
     "output_type": "stream",
     "text": [
      "[1] \"----WHA (ZERO CARE) LINEAR REGRESSION ADMIN REGION 2------\"\n"
     ]
    },
    {
     "data": {
      "text/plain": [
       "\n",
       "Call:\n",
       "lm(formula = y_wha_nocare_2 ~ activity + gravity_residual)\n",
       "\n",
       "Residuals:\n",
       "     Min       1Q   Median       3Q      Max \n",
       "-1.96823 -0.77004 -0.03519  0.58768  1.86944 \n",
       "\n",
       "Coefficients:\n",
       "                  Estimate Std. Error t value Pr(>|t|)  \n",
       "(Intercept)      4.403e-16  1.363e-01   0.000   1.0000  \n",
       "activity         2.333e-01  1.501e-01   1.554   0.1270  \n",
       "gravity_residual 3.842e-01  1.501e-01   2.559   0.0138 *\n",
       "---\n",
       "Signif. codes:  0 ‘***’ 0.001 ‘**’ 0.01 ‘*’ 0.05 ‘.’ 0.1 ‘ ’ 1\n",
       "\n",
       "Residual standard error: 0.9638 on 47 degrees of freedom\n",
       "Multiple R-squared:  0.1269,\tAdjusted R-squared:  0.08971 \n",
       "F-statistic: 3.415 on 2 and 47 DF,  p-value: 0.04124\n"
      ]
     },
     "metadata": {},
     "output_type": "display_data"
    }
   ],
   "source": [
    "# Cote D'Ivoire OLS - Admin Region 2.\n",
    "\n",
    "# Independent Variables\n",
    "activity <- activity_admin_2$Activity\n",
    "introversion <- introversion_admin_2$avg_introversion\n",
    "norm_entropy <- entropy_admin_2$normalised_entropy\n",
    "median_degree <- meddegree_admin_2$medDegree\n",
    "gravity_residual <- gresidual_2$gResidual\n",
    "\n",
    "# Dependent Variables.\n",
    "y_aids_2 <- aids_admin_2$Positive_HIV_Pop\n",
    "y_cm_2 <- child_mortality_2$CM_Pop_Count\n",
    "y_malaria_rapid_2 <- malaria_rapid_admin_2$Rapid_Pop_Count\n",
    "y_malaria_lab_2 <- malaria_lab_admin_2$Lab_Pop_Count\n",
    "y_wha_care_2 <- wha_care_admin_2$Care_Pop_Count\n",
    "y_wha_nocare_2 <- wha_nocare_admin_2$Zero_Pop_Count\n",
    "\n",
    "# Multiple Linear Regression Example \n",
    "print(\"----AIDS LINEAR REGRESSION ADMIN REGION 2------\")\n",
    "fit <- lm(y_aids_2 ~ activity + gravity_residual + introversion + median_degree)\n",
    "response <- step(fit, direction=\"backward\", trace=0)\n",
    "summary(response)\n",
    "# bptest(response) \n",
    "\n",
    "print(\"----CM LINEAR REGRESSION ADMIN REGION 2------\")\n",
    "fit <- lm(y_cm_2 ~ activity + gravity_residual + introversion)\n",
    "response <- step(fit, direction=\"backward\", trace=0)\n",
    "summary(response)\n",
    "# bptest(response)\n",
    "\n",
    "print(\"----MALARIA RAPID LINEAR REGRESSION ADMIN REGION 2------\")\n",
    "fit <- lm(y_malaria_rapid_2 ~ activity + median_degree)\n",
    "response <- step(fit, direction=\"backward\", trace=0)\n",
    "summary(response)\n",
    "# bptest(response)\n",
    "\n",
    "print(\"----MALARIA LAB LINEAR REGRESSION ADMIN REGION 2------\")\n",
    "fit <- lm(y_malaria_lab_2 ~ activity + gravity_residual + median_degree)\n",
    "response <- step(fit, direction=\"backward\", trace=0)\n",
    "summary(response)\n",
    "# bptest(response) \n",
    "\n",
    "print(\"----WHA LINEAR REGRESSION ADMIN REGION 2------\")\n",
    "fit <- lm(y_wha_care_2 ~ activity + gravity_residual + introversion + median_degree)\n",
    "response <- step(fit, direction=\"backward\", trace=0)\n",
    "summary(response)\n",
    "# bptest(response) \n",
    "\n",
    "print(\"----WHA (ZERO CARE) LINEAR REGRESSION ADMIN REGION 2------\")\n",
    "fit <- lm(y_wha_nocare_2 ~ activity + gravity_residual)\n",
    "response <- step(fit, direction=\"backward\", trace=0)\n",
    "summary(response)\n",
    "# bptest(response) "
   ]
  },
  {
   "cell_type": "code",
   "execution_count": 144,
   "metadata": {
    "scrolled": true
   },
   "outputs": [
    {
     "name": "stdout",
     "output_type": "stream",
     "text": [
      "[1] \"----AIDS LINEAR REGRESSION ADMIN REGION 3------\"\n"
     ]
    },
    {
     "data": {
      "text/plain": [
       "\n",
       "\tstudentized Breusch-Pagan test\n",
       "\n",
       "data:  response\n",
       "BP = 23.8, df = 2, p-value = 6.789e-06\n"
      ]
     },
     "metadata": {},
     "output_type": "display_data"
    },
    {
     "name": "stdout",
     "output_type": "stream",
     "text": [
      "[1] \"----CM LINEAR REGRESSION ADMIN REGION 3------\"\n"
     ]
    },
    {
     "data": {
      "text/plain": [
       "\n",
       "Call:\n",
       "lm(formula = y_cm_3 ~ activity + introversion)\n",
       "\n",
       "Residuals:\n",
       "    Min      1Q  Median      3Q     Max \n",
       "-1.5977 -0.6562 -0.1801  0.4634  3.4474 \n",
       "\n",
       "Coefficients:\n",
       "               Estimate Std. Error t value Pr(>|t|)    \n",
       "(Intercept)   8.701e-17  6.573e-02   0.000  1.00000    \n",
       "activity      4.082e-01  6.578e-02   6.205 3.59e-09 ***\n",
       "introversion -2.018e-01  6.578e-02  -3.068  0.00248 ** \n",
       "---\n",
       "Signif. codes:  0 ‘***’ 0.001 ‘**’ 0.01 ‘*’ 0.05 ‘.’ 0.1 ‘ ’ 1\n",
       "\n",
       "Residual standard error: 0.894 on 182 degrees of freedom\n",
       "Multiple R-squared:  0.2137,\tAdjusted R-squared:  0.2051 \n",
       "F-statistic: 24.74 on 2 and 182 DF,  p-value: 3.144e-10\n"
      ]
     },
     "metadata": {},
     "output_type": "display_data"
    },
    {
     "name": "stdout",
     "output_type": "stream",
     "text": [
      "[1] \"----MALARIA RAPID LINEAR REGRESSION ADMIN REGION 3------\"\n"
     ]
    },
    {
     "data": {
      "text/plain": [
       "\n",
       "Call:\n",
       "lm(formula = y_malaria_rapid_3 ~ activity)\n",
       "\n",
       "Residuals:\n",
       "    Min      1Q  Median      3Q     Max \n",
       "-1.7475 -0.5736 -0.0843  0.4711  3.8737 \n",
       "\n",
       "Coefficients:\n",
       "              Estimate Std. Error t value Pr(>|t|)    \n",
       "(Intercept) -5.443e-18  6.578e-02   0.000        1    \n",
       "activity     4.561e-01  6.578e-02   6.934 6.82e-11 ***\n",
       "---\n",
       "Signif. codes:  0 ‘***’ 0.001 ‘**’ 0.01 ‘*’ 0.05 ‘.’ 0.1 ‘ ’ 1\n",
       "\n",
       "Residual standard error: 0.8948 on 183 degrees of freedom\n",
       "Multiple R-squared:  0.208,\tAdjusted R-squared:  0.2037 \n",
       "F-statistic: 48.07 on 1 and 183 DF,  p-value: 6.817e-11\n"
      ]
     },
     "metadata": {},
     "output_type": "display_data"
    },
    {
     "name": "stdout",
     "output_type": "stream",
     "text": [
      "[1] \"----MALARIA LAB LINEAR REGRESSION ADMIN REGION 3------\"\n"
     ]
    },
    {
     "data": {
      "text/plain": [
       "\n",
       "Call:\n",
       "lm(formula = y_malaria_lab_3 ~ activity)\n",
       "\n",
       "Residuals:\n",
       "    Min      1Q  Median      3Q     Max \n",
       "-1.9909 -0.6151 -0.0488  0.3959  3.4310 \n",
       "\n",
       "Coefficients:\n",
       "              Estimate Std. Error t value Pr(>|t|)    \n",
       "(Intercept) -1.376e-16  6.652e-02   0.000        1    \n",
       "activity     4.363e-01  6.652e-02   6.559 5.39e-10 ***\n",
       "---\n",
       "Signif. codes:  0 ‘***’ 0.001 ‘**’ 0.01 ‘*’ 0.05 ‘.’ 0.1 ‘ ’ 1\n",
       "\n",
       "Residual standard error: 0.9047 on 183 degrees of freedom\n",
       "Multiple R-squared:  0.1903,\tAdjusted R-squared:  0.1859 \n",
       "F-statistic: 43.02 on 1 and 183 DF,  p-value: 5.388e-10\n"
      ]
     },
     "metadata": {},
     "output_type": "display_data"
    },
    {
     "name": "stdout",
     "output_type": "stream",
     "text": [
      "[1] \"----WHA LINEAR REGRESSION ADMIN REGION 3------\"\n"
     ]
    },
    {
     "data": {
      "text/plain": [
       "\n",
       "Call:\n",
       "lm(formula = y_wha_care_3 ~ activity + gravity_residual + median_degree)\n",
       "\n",
       "Residuals:\n",
       "     Min       1Q   Median       3Q      Max \n",
       "-1.49961 -0.35497  0.00811  0.26267  2.24043 \n",
       "\n",
       "Coefficients:\n",
       "                   Estimate Std. Error t value Pr(>|t|)    \n",
       "(Intercept)       2.677e-16  4.496e-02   0.000 1.000000    \n",
       "activity          8.092e-01  5.421e-02  14.927  < 2e-16 ***\n",
       "gravity_residual -1.647e-01  4.679e-02  -3.519 0.000548 ***\n",
       "median_degree    -1.514e-01  5.341e-02  -2.836 0.005096 ** \n",
       "---\n",
       "Signif. codes:  0 ‘***’ 0.001 ‘**’ 0.01 ‘*’ 0.05 ‘.’ 0.1 ‘ ’ 1\n",
       "\n",
       "Residual standard error: 0.6115 on 181 degrees of freedom\n",
       "Multiple R-squared:  0.6342,\tAdjusted R-squared:  0.6281 \n",
       "F-statistic: 104.6 on 3 and 181 DF,  p-value: < 2.2e-16\n"
      ]
     },
     "metadata": {},
     "output_type": "display_data"
    },
    {
     "name": "stdout",
     "output_type": "stream",
     "text": [
      "[1] \"----WHA (ZERO CARE) LINEAR REGRESSION ADMIN REGION 3------\"\n"
     ]
    },
    {
     "data": {
      "text/plain": [
       "\n",
       "Call:\n",
       "lm(formula = y_wha_nocare_3 ~ activity + gravity_residual)\n",
       "\n",
       "Residuals:\n",
       "    Min      1Q  Median      3Q     Max \n",
       "-1.7129 -0.7667 -0.0781  0.6214  3.4191 \n",
       "\n",
       "Coefficients:\n",
       "                   Estimate Std. Error t value Pr(>|t|)   \n",
       "(Intercept)      -9.899e-17  7.192e-02   0.000  1.00000   \n",
       "activity          2.122e-01  7.323e-02   2.898  0.00421 **\n",
       "gravity_residual  1.636e-01  7.323e-02   2.234  0.02672 * \n",
       "---\n",
       "Signif. codes:  0 ‘***’ 0.001 ‘**’ 0.01 ‘*’ 0.05 ‘.’ 0.1 ‘ ’ 1\n",
       "\n",
       "Residual standard error: 0.9782 on 182 degrees of freedom\n",
       "Multiple R-squared:  0.05872,\tAdjusted R-squared:  0.04838 \n",
       "F-statistic: 5.677 on 2 and 182 DF,  p-value: 0.004059\n"
      ]
     },
     "metadata": {},
     "output_type": "display_data"
    }
   ],
   "source": [
    "# Cote D'Ivoire OLS - Admin Region 3.\n",
    "\n",
    "# Independent Variables\n",
    "activity <- activity_admin_3$Activity\n",
    "introversion <- introversion_admin_3$avg_introversion\n",
    "norm_entropy <- entropy_admin_3$normalised_entropy\n",
    "median_degree <- meddegree_admin_3$medDegree\n",
    "gravity_residual <- gresidual_3$gResidual\n",
    "\n",
    "# Dependent Variables.\n",
    "y_aids_3 <- aids_admin_3$Positive_HIV_Pop\n",
    "y_cm_3 <- child_mortality_3$CM_Pop_Count\n",
    "y_malaria_rapid_3 <- malaria_rapid_admin_3$Rapid_Pop_Count\n",
    "y_malaria_lab_3 <- malaria_lab_admin_3$Lab_Pop_Count\n",
    "y_wha_care_3 <- wha_care_admin_3$Care_Pop_Count\n",
    "y_wha_nocare_3 <- wha_nocare_admin_3$Zero_Pop_Count\n",
    "\n",
    "# Multiple Linear Regression Example \n",
    "print(\"----AIDS LINEAR REGRESSION ADMIN REGION 3------\")\n",
    "fit <- lm(y_aids_3 ~ activity + gravity_residual + introversion + median_degree)\n",
    "response <- step(fit, direction=\"backward\", trace=0)\n",
    "bptest(response)\n",
    "# summary(response)\n",
    "\n",
    "print(\"----CM LINEAR REGRESSION ADMIN REGION 3------\")\n",
    "fit <- lm(y_cm_3 ~ activity + gravity_residual + introversion)\n",
    "response <- step(fit, direction=\"backward\", trace=0)\n",
    "summary(response)\n",
    "# bptest(response)\n",
    "\n",
    "print(\"----MALARIA RAPID LINEAR REGRESSION ADMIN REGION 3------\")\n",
    "fit <- lm(y_malaria_rapid_3 ~ activity + median_degree)\n",
    "response <- step(fit, direction=\"backward\", trace=0)\n",
    "summary(response)\n",
    "# bptest(response)\n",
    "\n",
    "print(\"----MALARIA LAB LINEAR REGRESSION ADMIN REGION 3------\")\n",
    "fit <- lm(y_malaria_lab_3 ~ activity + gravity_residual + median_degree)\n",
    "response <- step(fit, direction=\"backward\", trace=0)\n",
    "summary(response)\n",
    "# bptest(response)\n",
    "\n",
    "print(\"----WHA LINEAR REGRESSION ADMIN REGION 3------\")\n",
    "fit <- lm(y_wha_care_3 ~ activity + gravity_residual + introversion + median_degree)\n",
    "response <- step(fit, direction=\"backward\", trace=0)\n",
    "summary(response)\n",
    "# bptest(response)\n",
    "\n",
    "print(\"----WHA (ZERO CARE) LINEAR REGRESSION ADMIN REGION 3------\")\n",
    "fit <- lm(y_wha_nocare_3 ~ activity + gravity_residual)\n",
    "response <- step(fit, direction=\"backward\", trace=0)\n",
    "summary(response)\n",
    "# bptest(response)"
   ]
  },
  {
   "cell_type": "code",
   "execution_count": null,
   "metadata": {
    "scrolled": true
   },
   "outputs": [],
   "source": []
  }
 ],
 "metadata": {
  "kernelspec": {
   "display_name": "R",
   "language": "R",
   "name": "ir"
  },
  "language_info": {
   "codemirror_mode": "r",
   "file_extension": ".r",
   "mimetype": "text/x-r-source",
   "name": "R",
   "pygments_lexer": "r",
   "version": "3.4.3"
  }
 },
 "nbformat": 4,
 "nbformat_minor": 2
}
