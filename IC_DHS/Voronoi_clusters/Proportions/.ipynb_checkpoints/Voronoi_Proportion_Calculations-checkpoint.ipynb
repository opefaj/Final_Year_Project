{
 "cells": [
  {
   "cell_type": "code",
   "execution_count": 22,
   "metadata": {},
   "outputs": [
    {
     "name": "stdout",
     "output_type": "stream",
     "text": [
      "               O_Area_km2  P_Area_km2  Proportion\n",
      "ID_1 DHSCLUST                                    \n",
      "1    245              340          79    0.232353\n",
      "     110             1414         288    0.203678\n",
      "     115              353         205    0.580737\n",
      "     131             1523        1523    1.000000\n",
      "     129              871         871    1.000000\n",
      "               O_Area_km2  P_Area_km2  Proportion\n",
      "ID_2 DHSCLUST                                    \n",
      "1    245              340          79    0.232353\n",
      "     115              353         205    0.580737\n",
      "     131             1523         199    0.130663\n",
      "     129              871         871    1.000000\n",
      "     179             1652         173    0.104722\n",
      "               O_Area_km2  P_Area_km2  Proportion\n",
      "ID_3 DHSCLUST                                    \n",
      "1    129              871         173    0.198622\n",
      "     179             1652          97    0.058717\n",
      "     241             1761        1112    0.631459\n",
      "     338              578          12    0.020761\n",
      "     223              712         107    0.150281\n"
     ]
    }
   ],
   "source": [
    "import pandas as pd\n",
    "import numpy as np\n",
    "\n",
    "vor_admin_1 = pd.read_csv(\"Refined_Vor_1.csv\")\n",
    "vor_admin_1.set_index([\"ID_1\",\"DHSCLUST\"], inplace=True)\n",
    "\n",
    "vor_admin_2 = pd.read_csv(\"Refined_Vor_2.csv\")\n",
    "vor_admin_2.set_index([\"ID_2\",\"DHSCLUST\"], inplace=True)\n",
    "\n",
    "vor_admin_3 = pd.read_csv(\"Refined_Vor_3.csv\")\n",
    "vor_admin_3.set_index([\"ID_3\",\"DHSCLUST\"], inplace=True)\n",
    "\n",
    "vor_region = [vor_admin_1, vor_admin_2, vor_admin_3]\n",
    "\n",
    "# Calculate the proportion of each voronoi in a region.\n",
    "for admin_region in vor_region:\n",
    "    admin_region['Proportion'] = np.nan\n",
    "    for index, row in admin_region.iterrows():\n",
    "        result = row['P_Area_km2'] / row['O_Area_km2']\n",
    "        admin_region.loc[index, 'Proportion'] = result\n",
    "        \n",
    "print(vor_admin_1.head())\n",
    "print(vor_admin_2.head())\n",
    "print(vor_admin_3.head())\n",
    "\n",
    "vor_admin_1.to_csv(\"voronoi_admin_1.csv\", index=True)\n",
    "vor_admin_2.to_csv(\"voronoi_admin_2.csv\", index=True)\n",
    "vor_admin_3.to_csv(\"voronoi_admin_3.csv\", index=True)"
   ]
  }
 ],
 "metadata": {
  "kernelspec": {
   "display_name": "Python 3",
   "language": "python",
   "name": "python3"
  },
  "language_info": {
   "codemirror_mode": {
    "name": "ipython",
    "version": 3
   },
   "file_extension": ".py",
   "mimetype": "text/x-python",
   "name": "python",
   "nbconvert_exporter": "python",
   "pygments_lexer": "ipython3",
   "version": "3.6.3"
  }
 },
 "nbformat": 4,
 "nbformat_minor": 2
}
