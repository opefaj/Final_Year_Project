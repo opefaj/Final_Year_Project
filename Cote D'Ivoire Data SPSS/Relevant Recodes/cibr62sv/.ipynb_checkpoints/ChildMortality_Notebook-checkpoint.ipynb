{
 "cells": [
  {
   "cell_type": "code",
   "execution_count": 1,
   "metadata": {},
   "outputs": [],
   "source": [
    "import pandas as pd\n",
    "\n",
    "file = pd.read_csv(\"births_recode.csv\", low_memory=False)\n",
    "keep_columns = ['V001', 'V002', 'V005', 'B6']\n",
    "file = file[keep_columns]\n",
    "\n",
    "# Change empty values in specified column to -1.\n",
    "file.loc[file['B6'].str.contains(r'\\s+'), \"B6\"] = -1\n",
    "\n",
    "file.to_csv(\"child_mortality_data.csv\", index=False)"
   ]
  },
  {
   "cell_type": "code",
   "execution_count": null,
   "metadata": {},
   "outputs": [],
   "source": []
  }
 ],
 "metadata": {
  "kernelspec": {
   "display_name": "Python 3",
   "language": "python",
   "name": "python3"
  },
  "language_info": {
   "codemirror_mode": {
    "name": "ipython",
    "version": 3
   },
   "file_extension": ".py",
   "mimetype": "text/x-python",
   "name": "python",
   "nbconvert_exporter": "python",
   "pygments_lexer": "ipython3",
   "version": "3.6.0"
  }
 },
 "nbformat": 4,
 "nbformat_minor": 2
}
