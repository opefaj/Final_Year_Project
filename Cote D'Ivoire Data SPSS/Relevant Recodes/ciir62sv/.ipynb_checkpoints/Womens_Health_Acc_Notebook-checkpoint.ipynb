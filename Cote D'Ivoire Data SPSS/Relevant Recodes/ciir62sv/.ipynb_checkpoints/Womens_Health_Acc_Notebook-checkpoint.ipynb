{
 "cells": [
  {
   "cell_type": "code",
   "execution_count": 188,
   "metadata": {},
   "outputs": [],
   "source": [
    "import pandas as pd\n",
    "import numpy as np\n",
    "\n",
    "file = pd.read_csv(\"individual_Recode.csv\", low_memory=False)\n",
    "\n",
    "clust_admin_1 = pd.read_csv(\"cluster_to_admin_1.csv\")\n",
    "clust_admin_2 = pd.read_csv(\"cluster_to_admin_2.csv\")\n",
    "clust_admin_3 = pd.read_csv(\"cluster_to_admin_3.csv\")\n",
    "\n",
    "# Rename columns in preparation for joining.\n",
    "clust_admin_1 = clust_admin_1.rename(columns = {'DHSCLUST':'V001'})\n",
    "clust_admin_2 = clust_admin_2.rename(columns = {'DHSCLUST':'V001'})\n",
    "clust_admin_3 = clust_admin_3.rename(columns = {'DHSCLUST':'V001'})\n",
    "\n",
    "# Join the dataframes. \n",
    "c1 = pd.merge(file, clust_admin_1, how='inner', on='V001')\n",
    "c2 = pd.merge(c1, clust_admin_2, how='inner', on='V001')\n",
    "c3 = pd.merge(c2, clust_admin_3, how='inner', on='V001')\n",
    "\n",
    "keep_columns = ['V001','V002','V005','M14$1', 'ID_1', 'ID_2', 'ID_3']\n",
    "c3 = c3 [keep_columns]\n",
    "\n",
    "file.to_csv(\"health_access_data.csv\", index=False)\n",
    "c3.to_csv(\"complete_health_access_data.csv\", index=False)"
   ]
  },
  {
   "cell_type": "code",
   "execution_count": 189,
   "metadata": {},
   "outputs": [],
   "source": [
    "def compute_simple_wha_aggregate(region_name, col_name, data, cluster_file):\n",
    "    admin_data = pd.DataFrame(columns=[region_name, 'Total_Participants', 'No_Antenatal_Care', 'Median_Antenatal_Visits'])\n",
    "    admin_data[region_name] = list(cluster_file[col_name].unique())\n",
    "    \n",
    "    # Set index to region numbers.   \n",
    "    wha_data = data\n",
    "    wha_data.set_index(col_name, inplace=True)\n",
    "    \n",
    "    # Set index to region numbers and sort index.\n",
    "    admin_data.set_index(region_name, inplace=True)\n",
    "    admin_data.fillna(0, inplace=True)\n",
    "    admin_data.sort_index(ascending=True, inplace=True)\n",
    "    \n",
    "    wha_data['M14$1'] = pd.to_numeric(wha_data['M14$1'], errors='coerce').fillna(-1).astype(int)\n",
    "    \n",
    "    for index, row in wha_data.iterrows():\n",
    "        result = row['M14$1']\n",
    "        \n",
    "        #  Increment the number of participants.\n",
    "        participants = admin_data.loc[index, 'Total_Participants'] + 1\n",
    "        admin_data.loc[index, 'Total_Participants'] = participants\n",
    "\n",
    "        #  Increment the number of participants who have not had any antenatal care.\n",
    "        if(result == 0):\n",
    "            no_care = admin_data.loc[index, 'No_Antenatal_Care'] + 1\n",
    "            admin_data.loc[index, 'No_Antenatal_Care'] = no_care       \n",
    "            \n",
    "    return admin_data"
   ]
  },
  {
   "cell_type": "code",
   "execution_count": 190,
   "metadata": {},
   "outputs": [],
   "source": [
    "admin_1 = compute_simple_wha_aggregate(\"Admin_1_Region\", \"ID_1\", c3, clust_admin_1)\n",
    "admin_2 = compute_simple_wha_aggregate(\"Admin_2_Region\", \"ID_2\", c3, clust_admin_2)\n",
    "admin_3 = compute_simple_wha_aggregate(\"Admin_3_Region\", \"ID_3\", c3, clust_admin_3)\n",
    "\n",
    "admin_1.to_csv(\"wha_aggregate_1.csv\", index=True)\n",
    "admin_2.to_csv(\"wha_aggregate_2.csv\", index=True)\n",
    "admin_3.to_csv(\"wha_aggregate_3.csv\", index=True)\n",
    "\n",
    "# NEED TO ADD MEDIAN NUMBER OF ANTENATAL CARE VISITS FOR EACH REGION"
   ]
  }
 ],
 "metadata": {
  "kernelspec": {
   "display_name": "Python 3",
   "language": "python",
   "name": "python3"
  },
  "language_info": {
   "codemirror_mode": {
    "name": "ipython",
    "version": 3
   },
   "file_extension": ".py",
   "mimetype": "text/x-python",
   "name": "python",
   "nbconvert_exporter": "python",
   "pygments_lexer": "ipython3",
   "version": "3.6.0"
  }
 },
 "nbformat": 4,
 "nbformat_minor": 2
}
