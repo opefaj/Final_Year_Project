{
 "cells": [
  {
   "cell_type": "code",
   "execution_count": 4,
   "metadata": {},
   "outputs": [
    {
     "name": "stdout",
     "output_type": "stream",
     "text": [
      "[[1 1 ' ' ..., ' ' ' ' ' ']\n",
      " [1 6 ' ' ..., ' ' ' ' ' ']\n",
      " [1 7 ' ' ..., ' ' ' ' ' ']\n",
      " ..., \n",
      " [352 46 ' ' ..., ' ' ' ' ' ']\n",
      " [352 47 ' ' ..., ' ' ' ' ' ']\n",
      " [352 49 ' ' ..., ' ' ' ' ' ']]\n"
     ]
    }
   ],
   "source": [
    "import pandas as pd\n",
    "import numpy as np\n",
    "\n",
    "file = pd.read_csv(\"household_recode.csv\", low_memory=False)\n",
    "\n",
    "ids = ['HV001', 'HV002']\n",
    "lab_test = [col for col in file.columns if \"HML32$\" in col]\n",
    "rapid_test = [col for col in file.columns if \"HML35$\" in col]\n",
    "keep_columns = ids + lab_test + rapid_test\n",
    "file = file[keep_columns]\n",
    "\n",
    "print(file.values)\n",
    "\n",
    "# Values not available are changed to -1. \n",
    "for col in (lab_test + rapid_test):\n",
    "    file.loc[file[col].str.contains(r'\\s+'), col] = -1\n",
    "\n",
    "file.to_csv(\"malaria_data.csv\", index=False)"
   ]
  },
  {
   "cell_type": "code",
   "execution_count": null,
   "metadata": {},
   "outputs": [],
   "source": []
  },
  {
   "cell_type": "code",
   "execution_count": null,
   "metadata": {},
   "outputs": [],
   "source": []
  }
 ],
 "metadata": {
  "kernelspec": {
   "display_name": "Python 3",
   "language": "python",
   "name": "python3"
  },
  "language_info": {
   "codemirror_mode": {
    "name": "ipython",
    "version": 3
   },
   "file_extension": ".py",
   "mimetype": "text/x-python",
   "name": "python",
   "nbconvert_exporter": "python",
   "pygments_lexer": "ipython3",
   "version": "3.6.0"
  }
 },
 "nbformat": 4,
 "nbformat_minor": 2
}
