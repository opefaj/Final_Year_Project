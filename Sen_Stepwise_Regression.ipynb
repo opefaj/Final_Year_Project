{
 "cells": [
  {
   "cell_type": "code",
   "execution_count": 38,
   "metadata": {
    "scrolled": true
   },
   "outputs": [],
   "source": [
    "require(data.table)\n",
    "library(fBasics)\n",
    "library(lmtest)\n",
    "library(mctest)\n",
    "\n",
    "# Senegal Files.\n",
    "regression_dhs <- \"CDR_Data_Sen/Regression/DHS/\"\n",
    "regression_cdr <-\"CDR_Data_Sen/Regression/CDR/\"\n",
    "\n",
    "activity_admin_1 <- read.csv(file=\"CDR_Data_Sen/Regression/CDR/activity_1.csv\", head=TRUE, sep=\",\")\n",
    "activity_admin_2 <- read.csv(file=\"CDR_Data_Sen/Regression/CDR/activity_2.csv\", head=TRUE, sep=\",\")\n",
    "activity_admin_3 <- read.csv(file=\"CDR_Data_Sen/Regression/CDR/activity_3.csv\", head=TRUE, sep=\",\")\n",
    "\n",
    "introversion_admin_1 <- read.csv(file=\"CDR_Data_Sen/Regression/CDR/introversion_1.csv\", head=TRUE, sep=\",\")\n",
    "introversion_admin_2 <- read.csv(file=\"CDR_Data_Sen/Regression/CDR/introversion_2.csv\", head=TRUE, sep=\",\")\n",
    "introversion_admin_3 <- read.csv(file=\"CDR_Data_Sen/Regression/CDR/introversion_3.csv\", head=TRUE, sep=\",\")\n",
    "\n",
    "entropy_admin_1 <- read.csv(file=\"CDR_Data_Sen/Regression/CDR/entropy_1.csv\", head=TRUE, sep=\",\")\n",
    "entropy_admin_2 <- read.csv(file=\"CDR_Data_Sen/Regression/CDR/entropy_2.csv\", head=TRUE, sep=\",\")\n",
    "entropy_admin_3 <- read.csv(file=\"CDR_Data_Sen/Regression/CDR/entropy_3.csv\", head=TRUE, sep=\",\")\n",
    "\n",
    "meddegree_admin_1 <- read.csv(file=\"CDR_Data_Sen/Regression/CDR/meddegree_1.csv\", head=TRUE, sep=\",\")\n",
    "meddegree_admin_2 <- read.csv(file=\"CDR_Data_Sen/Regression/CDR/meddegree_2.csv\", head=TRUE, sep=\",\")\n",
    "meddegree_admin_3 <- read.csv(file=\"CDR_Data_Sen/Regression/CDR/meddegree_3.csv\", head=TRUE, sep=\",\")\n",
    "\n",
    "gresidual_1 <- read.csv(file=\"CDR_Data_Sen/Regression/CDR/gresidual_1.csv\", head=TRUE, sep=\",\")\n",
    "gresidual_2 <- read.csv(file=\"CDR_Data_Sen/Regression/CDR/gresidual_2.csv\", head=TRUE, sep=\",\")\n",
    "gresidual_3 <- read.csv(file=\"CDR_Data_Sen/Regression/CDR/gresidual_3.csv\", head=TRUE, sep=\",\")\n",
    "\n",
    "child_mortality_1 <- read.csv(file=\"CDR_Data_Sen/Regression/DHS/cm_1.csv\", head=TRUE, sep=\",\")\n",
    "child_mortality_2 <- read.csv(file=\"CDR_Data_Sen/Regression/DHS/cm_2.csv\", head=TRUE, sep=\",\")\n",
    "child_mortality_3 <- read.csv(file=\"CDR_Data_Sen/Regression/DHS/cm_3.csv\", head=TRUE, sep=\",\")\n",
    "\n",
    "malaria_rapid_admin_1 <- read.csv(file=\"CDR_Data_Sen/Regression/DHS/malaria_rapid_1.csv\", head=TRUE, sep=\",\")\n",
    "malaria_rapid_admin_2 <- read.csv(file=\"CDR_Data_Sen/Regression/DHS/malaria_rapid_2.csv\", head=TRUE, sep=\",\")\n",
    "malaria_rapid_admin_3 <- read.csv(file=\"CDR_Data_Sen/Regression/DHS/malaria_rapid_3.csv\", head=TRUE, sep=\",\")\n",
    "\n",
    "malaria_lab_admin_1 <- read.csv(file=\"CDR_Data_Sen/Regression/DHS/malaria_lab_1.csv\", head=TRUE, sep=\",\")\n",
    "malaria_lab_admin_2 <- read.csv(file=\"CDR_Data_Sen/Regression/DHS/malaria_lab_2.csv\", head=TRUE, sep=\",\")\n",
    "malaria_lab_admin_3 <- read.csv(file=\"CDR_Data_Sen/Regression/DHS/malaria_lab_3.csv\", head=TRUE, sep=\",\")\n",
    "\n",
    "wha_care_admin_1 <- read.csv(file=\"CDR_Data_Sen/Regression/DHS/wha_care_1.csv\", head=TRUE, sep=\",\")\n",
    "wha_care_admin_2 <- read.csv(file=\"CDR_Data_Sen/Regression/DHS/wha_care_2.csv\", head=TRUE, sep=\",\")\n",
    "wha_care_admin_3 <- read.csv(file=\"CDR_Data_Sen/Regression/DHS/wha_care_3.csv\", head=TRUE, sep=\",\")\n",
    "\n",
    "wha_nocare_admin_1 <- read.csv(file=\"CDR_Data_Sen/Regression/DHS/wha_nocare_1.csv\", head=TRUE, sep=\",\")\n",
    "wha_nocare_admin_2 <- read.csv(file=\"CDR_Data_Sen/Regression/DHS/wha_nocare_2.csv\", head=TRUE, sep=\",\")\n",
    "wha_nocare_admin_3 <- read.csv(file=\"CDR_Data_Sen/Regression/DHS/wha_nocare_3.csv\", head=TRUE, sep=\",\")"
   ]
  },
  {
   "cell_type": "code",
   "execution_count": 39,
   "metadata": {
    "scrolled": false
   },
   "outputs": [
    {
     "name": "stdout",
     "output_type": "stream",
     "text": [
      "[1] \"----CM LINEAR REGRESSION ADMIN REGION 1------\"\n"
     ]
    },
    {
     "data": {
      "text/plain": [
       "\n",
       "Call:\n",
       "lm(formula = y_cm_1 ~ activity + introversion + norm_entropy)\n",
       "\n",
       "Residuals:\n",
       "     Min       1Q   Median       3Q      Max \n",
       "-0.63062 -0.14630  0.02303  0.20399  0.44841 \n",
       "\n",
       "Coefficients:\n",
       "               Estimate Std. Error t value Pr(>|t|)  \n",
       "(Intercept)   9.208e-16  1.119e-01   0.000   1.0000  \n",
       "activity      3.530e-01  1.455e-01   2.426   0.0457 *\n",
       "introversion -4.799e-01  2.212e-01  -2.170   0.0666 .\n",
       "norm_entropy  2.410e-01  2.010e-01   1.198   0.2697  \n",
       "---\n",
       "Signif. codes:  0 ‘***’ 0.001 ‘**’ 0.01 ‘*’ 0.05 ‘.’ 0.1 ‘ ’ 1\n",
       "\n",
       "Residual standard error: 0.3712 on 7 degrees of freedom\n",
       "Multiple R-squared:  0.9123,\tAdjusted R-squared:  0.8747 \n",
       "F-statistic: 24.28 on 3 and 7 DF,  p-value: 0.0004485\n"
      ]
     },
     "metadata": {},
     "output_type": "display_data"
    },
    {
     "data": {
      "text/plain": [
       "\n",
       "\tstudentized Breusch-Pagan test\n",
       "\n",
       "data:  response\n",
       "BP = 1.4392, df = 3, p-value = 0.6964\n"
      ]
     },
     "metadata": {},
     "output_type": "display_data"
    },
    {
     "name": "stdout",
     "output_type": "stream",
     "text": [
      "[1] \"----MALARIA RAPID LINEAR REGRESSION ADMIN REGION 1------\"\n"
     ]
    },
    {
     "data": {
      "text/plain": [
       "\n",
       "Call:\n",
       "lm(formula = y_malaria_rapid_1 ~ introversion)\n",
       "\n",
       "Residuals:\n",
       "    Min      1Q  Median      3Q     Max \n",
       "-0.9385 -0.6010 -0.0971  0.2795  1.7640 \n",
       "\n",
       "Coefficients:\n",
       "               Estimate Std. Error t value Pr(>|t|)  \n",
       "(Intercept)   2.004e-16  2.514e-01   0.000   1.0000  \n",
       "introversion -6.565e-01  2.514e-01  -2.611   0.0282 *\n",
       "---\n",
       "Signif. codes:  0 ‘***’ 0.001 ‘**’ 0.01 ‘*’ 0.05 ‘.’ 0.1 ‘ ’ 1\n",
       "\n",
       "Residual standard error: 0.8339 on 9 degrees of freedom\n",
       "Multiple R-squared:  0.431,\tAdjusted R-squared:  0.3678 \n",
       "F-statistic: 6.817 on 1 and 9 DF,  p-value: 0.02823\n"
      ]
     },
     "metadata": {},
     "output_type": "display_data"
    },
    {
     "data": {
      "text/plain": [
       "\n",
       "\tstudentized Breusch-Pagan test\n",
       "\n",
       "data:  response\n",
       "BP = 0.71347, df = 1, p-value = 0.3983\n"
      ]
     },
     "metadata": {},
     "output_type": "display_data"
    },
    {
     "name": "stdout",
     "output_type": "stream",
     "text": [
      "[1] \"----MALARIA LAB LINEAR REGRESSION ADMIN REGION 1------\"\n"
     ]
    },
    {
     "data": {
      "text/plain": [
       "\n",
       "Call:\n",
       "lm(formula = y_malaria_lab_1 ~ gravity_residual + median_degree)\n",
       "\n",
       "Residuals:\n",
       "    Min      1Q  Median      3Q     Max \n",
       "-1.5712 -0.3740 -0.2412  0.3308  1.7029 \n",
       "\n",
       "Coefficients:\n",
       "                   Estimate Std. Error t value Pr(>|t|)\n",
       "(Intercept)      -2.078e-16  3.148e-01   0.000    1.000\n",
       "gravity_residual  7.804e-01  5.878e-01   1.328    0.221\n",
       "median_degree    -8.400e-01  5.878e-01  -1.429    0.191\n",
       "\n",
       "Residual standard error: 1.044 on 8 degrees of freedom\n",
       "Multiple R-squared:  0.2074,\tAdjusted R-squared:  0.009224 \n",
       "F-statistic: 1.047 on 2 and 8 DF,  p-value: 0.3947\n"
      ]
     },
     "metadata": {},
     "output_type": "display_data"
    },
    {
     "data": {
      "text/plain": [
       "\n",
       "\tstudentized Breusch-Pagan test\n",
       "\n",
       "data:  response\n",
       "BP = 1.6428, df = 2, p-value = 0.4398\n"
      ]
     },
     "metadata": {},
     "output_type": "display_data"
    },
    {
     "name": "stdout",
     "output_type": "stream",
     "text": [
      "[1] \"----WHA LINEAR REGRESSION ADMIN REGION 1------\"\n"
     ]
    },
    {
     "data": {
      "text/plain": [
       "\n",
       "Call:\n",
       "lm(formula = y_wha_care_1 ~ activity + gravity_residual + introversion + \n",
       "    norm_entropy)\n",
       "\n",
       "Residuals:\n",
       "     Min       1Q   Median       3Q      Max \n",
       "-0.25500 -0.07531  0.06234  0.07669  0.20389 \n",
       "\n",
       "Coefficients:\n",
       "                   Estimate Std. Error t value Pr(>|t|)   \n",
       "(Intercept)       9.955e-16  5.688e-02   0.000  1.00000   \n",
       "activity          8.837e-01  2.016e-01   4.384  0.00465 **\n",
       "gravity_residual -3.384e-01  2.088e-01  -1.621  0.15620   \n",
       "introversion     -2.589e-01  1.139e-01  -2.274  0.06334 . \n",
       "norm_entropy      3.181e-01  1.022e-01   3.113  0.02077 * \n",
       "---\n",
       "Signif. codes:  0 ‘***’ 0.001 ‘**’ 0.01 ‘*’ 0.05 ‘.’ 0.1 ‘ ’ 1\n",
       "\n",
       "Residual standard error: 0.1886 on 6 degrees of freedom\n",
       "Multiple R-squared:  0.9806,\tAdjusted R-squared:  0.9676 \n",
       "F-statistic: 75.78 on 4 and 6 DF,  p-value: 2.883e-05\n"
      ]
     },
     "metadata": {},
     "output_type": "display_data"
    },
    {
     "data": {
      "text/plain": [
       "\n",
       "\tstudentized Breusch-Pagan test\n",
       "\n",
       "data:  response\n",
       "BP = 2.4628, df = 4, p-value = 0.6513\n"
      ]
     },
     "metadata": {},
     "output_type": "display_data"
    },
    {
     "name": "stdout",
     "output_type": "stream",
     "text": [
      "[1] \"----WHA (ZERO CARE) LINEAR REGRESSION ADMIN REGION 1------\"\n"
     ]
    },
    {
     "data": {
      "text/plain": [
       "\n",
       "Call:\n",
       "lm(formula = y_wha_nocare_1 ~ introversion + median_degree)\n",
       "\n",
       "Residuals:\n",
       "     Min       1Q   Median       3Q      Max \n",
       "-1.14280 -0.33257 -0.07096  0.40144  1.06606 \n",
       "\n",
       "Coefficients:\n",
       "                Estimate Std. Error t value Pr(>|t|)  \n",
       "(Intercept)    1.328e-16  2.340e-01   0.000   1.0000  \n",
       "introversion  -9.000e-01  2.875e-01  -3.130   0.0140 *\n",
       "median_degree -6.832e-01  2.875e-01  -2.376   0.0448 *\n",
       "---\n",
       "Signif. codes:  0 ‘***’ 0.001 ‘**’ 0.01 ‘*’ 0.05 ‘.’ 0.1 ‘ ’ 1\n",
       "\n",
       "Residual standard error: 0.776 on 8 degrees of freedom\n",
       "Multiple R-squared:  0.5621,\tAdjusted R-squared:  0.4526 \n",
       "F-statistic: 5.134 on 2 and 8 DF,  p-value: 0.03677\n"
      ]
     },
     "metadata": {},
     "output_type": "display_data"
    },
    {
     "data": {
      "text/plain": [
       "\n",
       "\tstudentized Breusch-Pagan test\n",
       "\n",
       "data:  response\n",
       "BP = 0.3662, df = 2, p-value = 0.8327\n"
      ]
     },
     "metadata": {},
     "output_type": "display_data"
    }
   ],
   "source": [
    "# Senegal OLS - Admin Region 1.\n",
    "\n",
    "# Independent Variables\n",
    "activity <- activity_admin_1$Activity\n",
    "introversion <- introversion_admin_1$avg_introversion\n",
    "norm_entropy <- entropy_admin_1$normalised_entropy\n",
    "median_degree <- meddegree_admin_1$medDegree\n",
    "gravity_residual <- gresidual_1$gResidual\n",
    "\n",
    "# Dependent Variables.\n",
    "y_cm_1 <- child_mortality_1$CM_Pop_Count\n",
    "y_malaria_rapid_1 <- malaria_rapid_admin_1$Rapid_Pop_Count\n",
    "y_malaria_lab_1 <- malaria_lab_admin_1$Lab_Pop_Count\n",
    "y_wha_care_1 <- wha_care_admin_1$Care_Pop_Count\n",
    "y_wha_nocare_1 <- wha_nocare_admin_1$Zero_Pop_Count\n",
    "\n",
    "print(\"----CM LINEAR REGRESSION ADMIN REGION 1------\")\n",
    "fit <- lm(y_cm_1 ~ activity + gravity_residual + introversion + norm_entropy + median_degree)\n",
    "response <- step(fit, direction=\"backward\", trace=0)\n",
    "summary(response)\n",
    "bptest(response)\n",
    "\n",
    "print(\"----MALARIA RAPID LINEAR REGRESSION ADMIN REGION 1------\")\n",
    "fit <- lm(y_malaria_rapid_1 ~ introversion)\n",
    "response <- step(fit, direction=\"backward\", trace=0)\n",
    "summary(response)\n",
    "bptest(response)\n",
    "\n",
    "print(\"----MALARIA LAB LINEAR REGRESSION ADMIN REGION 1------\")\n",
    "fit <- lm(y_malaria_lab_1 ~ gravity_residual + median_degree)\n",
    "response <- step(fit, direction=\"backward\", trace=0)\n",
    "summary(response)\n",
    "bptest(response)\n",
    "\n",
    "print(\"----WHA LINEAR REGRESSION ADMIN REGION 1------\")\n",
    "fit <- lm(y_wha_care_1 ~ activity + gravity_residual + introversion + norm_entropy + median_degree)\n",
    "response <- step(fit, direction=\"backward\", trace=0)\n",
    "summary(response)\n",
    "bptest(response)\n",
    "\n",
    "print(\"----WHA (ZERO CARE) LINEAR REGRESSION ADMIN REGION 1------\")\n",
    "fit <- lm(y_wha_nocare_1 ~ introversion + median_degree)\n",
    "response <- step(fit, direction=\"backward\", trace=0)\n",
    "summary(response)\n",
    "bptest(response)"
   ]
  },
  {
   "cell_type": "code",
   "execution_count": 40,
   "metadata": {
    "scrolled": false
   },
   "outputs": [
    {
     "name": "stdout",
     "output_type": "stream",
     "text": [
      "[1] \"----CM LINEAR REGRESSION ADMIN REGION 2------\"\n"
     ]
    },
    {
     "data": {
      "text/plain": [
       "\n",
       "Call:\n",
       "lm(formula = y_cm_2 ~ gravity_residual + introversion)\n",
       "\n",
       "Residuals:\n",
       "    Min      1Q  Median      3Q     Max \n",
       "-0.6554 -0.3016 -0.1540  0.2913  1.2565 \n",
       "\n",
       "Coefficients:\n",
       "                   Estimate Std. Error t value Pr(>|t|)    \n",
       "(Intercept)       4.349e-16  9.475e-02   0.000 1.000000    \n",
       "gravity_residual  5.486e-01  1.142e-01   4.803 5.17e-05 ***\n",
       "introversion     -4.356e-01  1.142e-01  -3.814 0.000722 ***\n",
       "---\n",
       "Signif. codes:  0 ‘***’ 0.001 ‘**’ 0.01 ‘*’ 0.05 ‘.’ 0.1 ‘ ’ 1\n",
       "\n",
       "Residual standard error: 0.519 on 27 degrees of freedom\n",
       "Multiple R-squared:  0.7576,\tAdjusted R-squared:  0.7397 \n",
       "F-statistic:  42.2 on 2 and 27 DF,  p-value: 4.909e-09\n"
      ]
     },
     "metadata": {},
     "output_type": "display_data"
    },
    {
     "data": {
      "text/plain": [
       "\n",
       "\tstudentized Breusch-Pagan test\n",
       "\n",
       "data:  response\n",
       "BP = 1.9189, df = 2, p-value = 0.3831\n"
      ]
     },
     "metadata": {},
     "output_type": "display_data"
    },
    {
     "name": "stdout",
     "output_type": "stream",
     "text": [
      "[1] \"----MALARIA RAPID LINEAR REGRESSION ADMIN REGION 2------\"\n"
     ]
    },
    {
     "data": {
      "text/plain": [
       "\n",
       "Call:\n",
       "lm(formula = y_malaria_rapid_2 ~ introversion)\n",
       "\n",
       "Residuals:\n",
       "    Min      1Q  Median      3Q     Max \n",
       "-1.8040 -0.6208 -0.1593  0.5906  2.4228 \n",
       "\n",
       "Coefficients:\n",
       "               Estimate Std. Error t value Pr(>|t|)\n",
       "(Intercept)   2.672e-16  1.803e-01   0.000    1.000\n",
       "introversion -2.996e-01  1.803e-01  -1.662    0.108\n",
       "\n",
       "Residual standard error: 0.9876 on 28 degrees of freedom\n",
       "Multiple R-squared:  0.08975,\tAdjusted R-squared:  0.05724 \n",
       "F-statistic: 2.761 on 1 and 28 DF,  p-value: 0.1078\n"
      ]
     },
     "metadata": {},
     "output_type": "display_data"
    },
    {
     "data": {
      "text/plain": [
       "\n",
       "\tstudentized Breusch-Pagan test\n",
       "\n",
       "data:  response\n",
       "BP = 2.6333, df = 1, p-value = 0.1046\n"
      ]
     },
     "metadata": {},
     "output_type": "display_data"
    },
    {
     "name": "stdout",
     "output_type": "stream",
     "text": [
      "[1] \"----MALARIA LAB LINEAR REGRESSION ADMIN REGION 2------\"\n"
     ]
    },
    {
     "data": {
      "text/plain": [
       "\n",
       "Call:\n",
       "lm(formula = y_malaria_lab_2 ~ median_degree)\n",
       "\n",
       "Residuals:\n",
       "    Min      1Q  Median      3Q     Max \n",
       "-1.3600 -0.6918 -0.3222  0.6404  1.9395 \n",
       "\n",
       "Coefficients:\n",
       "                Estimate Std. Error t value Pr(>|t|)  \n",
       "(Intercept)   -7.865e-16  1.747e-01   0.000   1.0000  \n",
       "median_degree -3.819e-01  1.747e-01  -2.186   0.0373 *\n",
       "---\n",
       "Signif. codes:  0 ‘***’ 0.001 ‘**’ 0.01 ‘*’ 0.05 ‘.’ 0.1 ‘ ’ 1\n",
       "\n",
       "Residual standard error: 0.9567 on 28 degrees of freedom\n",
       "Multiple R-squared:  0.1458,\tAdjusted R-squared:  0.1153 \n",
       "F-statistic:  4.78 on 1 and 28 DF,  p-value: 0.03731\n"
      ]
     },
     "metadata": {},
     "output_type": "display_data"
    },
    {
     "data": {
      "text/plain": [
       "\n",
       "\tstudentized Breusch-Pagan test\n",
       "\n",
       "data:  response\n",
       "BP = 0.37767, df = 1, p-value = 0.5389\n"
      ]
     },
     "metadata": {},
     "output_type": "display_data"
    },
    {
     "name": "stdout",
     "output_type": "stream",
     "text": [
      "[1] \"----WHA LINEAR REGRESSION ADMIN REGION 2------\"\n"
     ]
    },
    {
     "data": {
      "text/plain": [
       "\n",
       "Call:\n",
       "lm(formula = y_wha_care_2 ~ gravity_residual + introversion)\n",
       "\n",
       "Residuals:\n",
       "     Min       1Q   Median       3Q      Max \n",
       "-0.66717 -0.22001 -0.05212  0.18532  0.84575 \n",
       "\n",
       "Coefficients:\n",
       "                   Estimate Std. Error t value Pr(>|t|)    \n",
       "(Intercept)       1.979e-16  6.638e-02   0.000 1.000000    \n",
       "gravity_residual  7.165e-01  8.001e-02   8.955 1.43e-09 ***\n",
       "introversion     -3.264e-01  8.001e-02  -4.079 0.000359 ***\n",
       "---\n",
       "Signif. codes:  0 ‘***’ 0.001 ‘**’ 0.01 ‘*’ 0.05 ‘.’ 0.1 ‘ ’ 1\n",
       "\n",
       "Residual standard error: 0.3636 on 27 degrees of freedom\n",
       "Multiple R-squared:  0.881,\tAdjusted R-squared:  0.8722 \n",
       "F-statistic: 99.98 on 2 and 27 DF,  p-value: 3.297e-13\n"
      ]
     },
     "metadata": {},
     "output_type": "display_data"
    },
    {
     "data": {
      "text/plain": [
       "\n",
       "\tstudentized Breusch-Pagan test\n",
       "\n",
       "data:  response\n",
       "BP = 2.9827, df = 2, p-value = 0.2251\n"
      ]
     },
     "metadata": {},
     "output_type": "display_data"
    },
    {
     "name": "stdout",
     "output_type": "stream",
     "text": [
      "[1] \"----WHA (ZERO CARE) LINEAR REGRESSION ADMIN REGION 2------\"\n"
     ]
    },
    {
     "data": {
      "text/plain": [
       "\n",
       "Call:\n",
       "lm(formula = y_wha_nocare_2 ~ introversion + median_degree)\n",
       "\n",
       "Residuals:\n",
       "     Min       1Q   Median       3Q      Max \n",
       "-1.56186 -0.55767  0.02196  0.38934  2.25450 \n",
       "\n",
       "Coefficients:\n",
       "                Estimate Std. Error t value Pr(>|t|)  \n",
       "(Intercept)    1.271e-17  1.725e-01   0.000   1.0000  \n",
       "introversion  -5.011e-01  1.998e-01  -2.507   0.0185 *\n",
       "median_degree -3.505e-01  1.998e-01  -1.754   0.0908 .\n",
       "---\n",
       "Signif. codes:  0 ‘***’ 0.001 ‘**’ 0.01 ‘*’ 0.05 ‘.’ 0.1 ‘ ’ 1\n",
       "\n",
       "Residual standard error: 0.9448 on 27 degrees of freedom\n",
       "Multiple R-squared:  0.1966,\tAdjusted R-squared:  0.1371 \n",
       "F-statistic: 3.303 on 2 and 27 DF,  p-value: 0.0521\n"
      ]
     },
     "metadata": {},
     "output_type": "display_data"
    },
    {
     "data": {
      "text/plain": [
       "\n",
       "\tstudentized Breusch-Pagan test\n",
       "\n",
       "data:  response\n",
       "BP = 11.351, df = 2, p-value = 0.00343\n"
      ]
     },
     "metadata": {},
     "output_type": "display_data"
    }
   ],
   "source": [
    "# Senegal OLS - Admin Region 2.\n",
    "\n",
    "# Independent Variables\n",
    "activity <- activity_admin_2$Activity\n",
    "introversion <- introversion_admin_2$avg_introversion\n",
    "norm_entropy <- entropy_admin_2$normalised_entropy\n",
    "median_degree <- meddegree_admin_2$medDegree\n",
    "gravity_residual <- gresidual_2$gResidual\n",
    "\n",
    "# Dependent Variables.\n",
    "y_cm_2 <- child_mortality_2$CM_Pop_Count\n",
    "y_malaria_rapid_2 <- malaria_rapid_admin_2$Rapid_Pop_Count\n",
    "y_malaria_lab_2 <- malaria_lab_admin_2$Lab_Pop_Count\n",
    "y_wha_care_2 <- wha_care_admin_2$Care_Pop_Count\n",
    "y_wha_nocare_2 <- wha_nocare_admin_2$Zero_Pop_Count\n",
    "\n",
    "print(\"----CM LINEAR REGRESSION ADMIN REGION 2------\")\n",
    "fit <- lm(y_cm_2 ~ activity + gravity_residual + introversion + norm_entropy + median_degree)\n",
    "response <- step(fit, direction=\"backward\", trace=0)\n",
    "summary(response)\n",
    "bptest(response)\n",
    "\n",
    "print(\"----MALARIA RAPID LINEAR REGRESSION ADMIN REGION 2------\")\n",
    "fit <- lm(y_malaria_rapid_2 ~ introversion)\n",
    "response <- step(fit, direction=\"backward\", trace=0)\n",
    "summary(response)\n",
    "bptest(response)\n",
    "\n",
    "print(\"----MALARIA LAB LINEAR REGRESSION ADMIN REGION 2------\")\n",
    "fit <- lm(y_malaria_lab_2 ~ gravity_residual + median_degree)\n",
    "response <- step(fit, direction=\"backward\", trace=0)\n",
    "summary(response)\n",
    "bptest(response)\n",
    "\n",
    "print(\"----WHA LINEAR REGRESSION ADMIN REGION 2------\")\n",
    "fit <- lm(y_wha_care_2 ~ activity + gravity_residual + introversion + norm_entropy + median_degree)\n",
    "response <- step(fit, direction=\"backward\", trace=0)\n",
    "summary(response)\n",
    "bptest(response)\n",
    "\n",
    "print(\"----WHA (ZERO CARE) LINEAR REGRESSION ADMIN REGION 2------\")\n",
    "fit <- lm(y_wha_nocare_2 ~ introversion + median_degree)\n",
    "response <- step(fit, direction=\"backward\", trace=0)\n",
    "summary(response)\n",
    "bptest(response)"
   ]
  },
  {
   "cell_type": "code",
   "execution_count": 41,
   "metadata": {
    "scrolled": false
   },
   "outputs": [
    {
     "name": "stdout",
     "output_type": "stream",
     "text": [
      "[1] \"----CM LINEAR REGRESSION ADMIN REGION 3------\"\n"
     ]
    },
    {
     "data": {
      "text/plain": [
       "\n",
       "Call:\n",
       "lm(formula = y_cm_3 ~ activity + gravity_residual + introversion + \n",
       "    norm_entropy + median_degree)\n",
       "\n",
       "Residuals:\n",
       "     Min       1Q   Median       3Q      Max \n",
       "-1.40779 -0.41298  0.03463  0.35848  1.83029 \n",
       "\n",
       "Coefficients:\n",
       "                   Estimate Std. Error t value Pr(>|t|)    \n",
       "(Intercept)       1.833e-16  6.141e-02   0.000 1.000000    \n",
       "activity          5.922e-01  1.001e-01   5.919 6.26e-08 ***\n",
       "gravity_residual -2.973e-01  8.524e-02  -3.488 0.000766 ***\n",
       "introversion     -3.294e-01  8.138e-02  -4.048 0.000112 ***\n",
       "norm_entropy      2.703e-01  7.520e-02   3.594 0.000539 ***\n",
       "median_degree    -2.196e-01  1.208e-01  -1.818 0.072518 .  \n",
       "---\n",
       "Signif. codes:  0 ‘***’ 0.001 ‘**’ 0.01 ‘*’ 0.05 ‘.’ 0.1 ‘ ’ 1\n",
       "\n",
       "Residual standard error: 0.5922 on 87 degrees of freedom\n",
       "Multiple R-squared:  0.6719,\tAdjusted R-squared:  0.6531 \n",
       "F-statistic: 35.64 on 5 and 87 DF,  p-value: < 2.2e-16\n"
      ]
     },
     "metadata": {},
     "output_type": "display_data"
    },
    {
     "data": {
      "text/plain": [
       "\n",
       "\tstudentized Breusch-Pagan test\n",
       "\n",
       "data:  response\n",
       "BP = 19.826, df = 5, p-value = 0.001347\n"
      ]
     },
     "metadata": {},
     "output_type": "display_data"
    },
    {
     "name": "stdout",
     "output_type": "stream",
     "text": [
      "[1] \"----MALARIA RAPID LINEAR REGRESSION ADMIN REGION 3------\"\n"
     ]
    },
    {
     "data": {
      "text/plain": [
       "\n",
       "Call:\n",
       "lm(formula = y_malaria_rapid_3 ~ introversion)\n",
       "\n",
       "Residuals:\n",
       "    Min      1Q  Median      3Q     Max \n",
       "-1.4882 -0.8543 -0.1013  0.5325  2.7319 \n",
       "\n",
       "Coefficients:\n",
       "               Estimate Std. Error t value Pr(>|t|)  \n",
       "(Intercept)  -2.947e-16  1.014e-01   0.000   1.0000  \n",
       "introversion -2.531e-01  1.014e-01  -2.496   0.0144 *\n",
       "---\n",
       "Signif. codes:  0 ‘***’ 0.001 ‘**’ 0.01 ‘*’ 0.05 ‘.’ 0.1 ‘ ’ 1\n",
       "\n",
       "Residual standard error: 0.978 on 91 degrees of freedom\n",
       "Multiple R-squared:  0.06408,\tAdjusted R-squared:  0.05379 \n",
       "F-statistic:  6.23 on 1 and 91 DF,  p-value: 0.01436\n"
      ]
     },
     "metadata": {},
     "output_type": "display_data"
    },
    {
     "data": {
      "text/plain": [
       "\n",
       "\tstudentized Breusch-Pagan test\n",
       "\n",
       "data:  response\n",
       "BP = 2.7879, df = 1, p-value = 0.09498\n"
      ]
     },
     "metadata": {},
     "output_type": "display_data"
    },
    {
     "name": "stdout",
     "output_type": "stream",
     "text": [
      "[1] \"----MALARIA LAB LINEAR REGRESSION ADMIN REGION 3------\"\n"
     ]
    },
    {
     "data": {
      "text/plain": [
       "\n",
       "Call:\n",
       "lm(formula = y_malaria_lab_3 ~ median_degree)\n",
       "\n",
       "Residuals:\n",
       "    Min      1Q  Median      3Q     Max \n",
       "-1.3426 -0.8441 -0.1767  0.7047  2.6623 \n",
       "\n",
       "Coefficients:\n",
       "                Estimate Std. Error t value Pr(>|t|)   \n",
       "(Intercept)    2.339e-16  9.923e-02    0.00  1.00000   \n",
       "median_degree -3.225e-01  9.923e-02   -3.25  0.00162 **\n",
       "---\n",
       "Signif. codes:  0 ‘***’ 0.001 ‘**’ 0.01 ‘*’ 0.05 ‘.’ 0.1 ‘ ’ 1\n",
       "\n",
       "Residual standard error: 0.9569 on 91 degrees of freedom\n",
       "Multiple R-squared:  0.104,\tAdjusted R-squared:  0.09418 \n",
       "F-statistic: 10.57 on 1 and 91 DF,  p-value: 0.001616\n"
      ]
     },
     "metadata": {},
     "output_type": "display_data"
    },
    {
     "data": {
      "text/plain": [
       "\n",
       "\tstudentized Breusch-Pagan test\n",
       "\n",
       "data:  response\n",
       "BP = 1.638, df = 1, p-value = 0.2006\n"
      ]
     },
     "metadata": {},
     "output_type": "display_data"
    },
    {
     "name": "stdout",
     "output_type": "stream",
     "text": [
      "[1] \"----WHA LINEAR REGRESSION ADMIN REGION 3------\"\n"
     ]
    },
    {
     "data": {
      "text/plain": [
       "\n",
       "Call:\n",
       "lm(formula = y_wha_care_3 ~ activity + gravity_residual + introversion + \n",
       "    norm_entropy + median_degree)\n",
       "\n",
       "Residuals:\n",
       "     Min       1Q   Median       3Q      Max \n",
       "-0.69588 -0.26077 -0.04773  0.21905  1.63337 \n",
       "\n",
       "Coefficients:\n",
       "                   Estimate Std. Error t value Pr(>|t|)    \n",
       "(Intercept)      -2.920e-17  4.145e-02   0.000   1.0000    \n",
       "activity          7.028e-01  6.753e-02  10.407  < 2e-16 ***\n",
       "gravity_residual -2.843e-01  5.753e-02  -4.941 3.73e-06 ***\n",
       "introversion     -2.712e-01  5.493e-02  -4.937 3.79e-06 ***\n",
       "norm_entropy      3.018e-01  5.076e-02   5.946 5.58e-08 ***\n",
       "median_degree    -1.388e-01  8.154e-02  -1.703   0.0922 .  \n",
       "---\n",
       "Signif. codes:  0 ‘***’ 0.001 ‘**’ 0.01 ‘*’ 0.05 ‘.’ 0.1 ‘ ’ 1\n",
       "\n",
       "Residual standard error: 0.3997 on 87 degrees of freedom\n",
       "Multiple R-squared:  0.8505,\tAdjusted R-squared:  0.8419 \n",
       "F-statistic: 99.02 on 5 and 87 DF,  p-value: < 2.2e-16\n"
      ]
     },
     "metadata": {},
     "output_type": "display_data"
    },
    {
     "data": {
      "text/plain": [
       "\n",
       "\tstudentized Breusch-Pagan test\n",
       "\n",
       "data:  response\n",
       "BP = 20.379, df = 5, p-value = 0.001061\n"
      ]
     },
     "metadata": {},
     "output_type": "display_data"
    },
    {
     "name": "stdout",
     "output_type": "stream",
     "text": [
      "[1] \"----WHA (ZERO CARE) LINEAR REGRESSION ADMIN REGION 3------\"\n"
     ]
    },
    {
     "data": {
      "text/plain": [
       "\n",
       "Call:\n",
       "lm(formula = y_wha_nocare_3 ~ introversion)\n",
       "\n",
       "Residuals:\n",
       "    Min      1Q  Median      3Q     Max \n",
       "-1.7508 -0.5938  0.0142  0.5147  3.4636 \n",
       "\n",
       "Coefficients:\n",
       "               Estimate Std. Error t value Pr(>|t|)  \n",
       "(Intercept)   1.092e-17  1.019e-01   0.000   1.0000  \n",
       "introversion -2.350e-01  1.019e-01  -2.307   0.0233 *\n",
       "---\n",
       "Signif. codes:  0 ‘***’ 0.001 ‘**’ 0.01 ‘*’ 0.05 ‘.’ 0.1 ‘ ’ 1\n",
       "\n",
       "Residual standard error: 0.9826 on 91 degrees of freedom\n",
       "Multiple R-squared:  0.05524,\tAdjusted R-squared:  0.04486 \n",
       "F-statistic: 5.321 on 1 and 91 DF,  p-value: 0.02334\n"
      ]
     },
     "metadata": {},
     "output_type": "display_data"
    },
    {
     "data": {
      "text/plain": [
       "\n",
       "\tstudentized Breusch-Pagan test\n",
       "\n",
       "data:  response\n",
       "BP = 9.0098, df = 1, p-value = 0.002685\n"
      ]
     },
     "metadata": {},
     "output_type": "display_data"
    }
   ],
   "source": [
    "# Senegal OLS - Admin Region 3.\n",
    "\n",
    "# Independent Variables\n",
    "activity <- activity_admin_3$Activity\n",
    "introversion <- introversion_admin_3$avg_introversion\n",
    "norm_entropy <- entropy_admin_3$normalised_entropy\n",
    "median_degree <- meddegree_admin_3$medDegree\n",
    "gravity_residual <- gresidual_3$gResidual\n",
    "\n",
    "# Dependent Variables.\n",
    "y_cm_3 <- child_mortality_3$CM_Pop_Count\n",
    "y_malaria_rapid_3 <- malaria_rapid_admin_3$Rapid_Pop_Count\n",
    "y_malaria_lab_3 <- malaria_lab_admin_3$Lab_Pop_Count\n",
    "y_wha_care_3 <- wha_care_admin_3$Care_Pop_Count\n",
    "y_wha_nocare_3 <- wha_nocare_admin_3$Zero_Pop_Count\n",
    "\n",
    "print(\"----CM LINEAR REGRESSION ADMIN REGION 3------\")\n",
    "fit <- lm(y_cm_3 ~ activity + gravity_residual + introversion + norm_entropy + median_degree)\n",
    "response <- step(fit, direction=\"backward\", trace=0)\n",
    "summary(response)\n",
    "bptest(response)\n",
    "\n",
    "print(\"----MALARIA RAPID LINEAR REGRESSION ADMIN REGION 3------\")\n",
    "fit <- lm(y_malaria_rapid_3 ~ introversion)\n",
    "response <- step(fit, direction=\"backward\", trace=0)\n",
    "summary(response)\n",
    "bptest(response)\n",
    "\n",
    "print(\"----MALARIA LAB LINEAR REGRESSION ADMIN REGION 3------\")\n",
    "fit <- lm(y_malaria_lab_3 ~ gravity_residual + median_degree)\n",
    "response <- step(fit, direction=\"backward\", trace=0)\n",
    "summary(response)\n",
    "bptest(response)\n",
    "\n",
    "print(\"----WHA LINEAR REGRESSION ADMIN REGION 3------\")\n",
    "fit <- lm(y_wha_care_3 ~ activity + gravity_residual + introversion + norm_entropy + median_degree)\n",
    "response <- step(fit, direction=\"backward\", trace=0)\n",
    "summary(response)\n",
    "bptest(response)\n",
    "\n",
    "print(\"----WHA (ZERO CARE) LINEAR REGRESSION ADMIN REGION 3------\")\n",
    "fit <- lm(y_wha_nocare_3 ~ introversion + median_degree)\n",
    "response <- step(fit, direction=\"backward\", trace=0)\n",
    "summary(response)\n",
    "bptest(response)"
   ]
  },
  {
   "cell_type": "code",
   "execution_count": null,
   "metadata": {},
   "outputs": [],
   "source": []
  }
 ],
 "metadata": {
  "kernelspec": {
   "display_name": "R",
   "language": "R",
   "name": "ir"
  },
  "language_info": {
   "codemirror_mode": "r",
   "file_extension": ".r",
   "mimetype": "text/x-r-source",
   "name": "R",
   "pygments_lexer": "r",
   "version": "3.4.3"
  }
 },
 "nbformat": 4,
 "nbformat_minor": 2
}
